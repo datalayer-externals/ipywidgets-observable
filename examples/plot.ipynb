{
 "cells": [
  {
   "cell_type": "code",
   "execution_count": null,
   "id": "e81e802d-59ac-418f-99e2-aa74d57bf47b",
   "metadata": {},
   "outputs": [],
   "source": [
    "import csv\n",
    "from pathlib import Path\n",
    "from ipyobservable import Observable"
   ]
  },
  {
   "cell_type": "code",
   "execution_count": null,
   "id": "37ba09e8-526f-4d78-888d-3bc6fc1a9c50",
   "metadata": {},
   "outputs": [],
   "source": [
    "with open(Path(\"data\") / \"athletes.csv\") as csvfile:\n",
    "    athletes = list(csv.DictReader(csvfile))"
   ]
  },
  {
   "cell_type": "code",
   "execution_count": null,
   "id": "6d4403cd-9280-40f2-baed-5c3ac2378536",
   "metadata": {},
   "outputs": [],
   "source": [
    "athletes = [\n",
    "    {\n",
    "        \"sex\": row[\"sex\"] or \"null\",\n",
    "        \"height\": float(row[\"height\"]) if row[\"height\"] else \"null\",\n",
    "        \"weight\": float(row[\"weight\"]) if row[\"weight\"] else \"null\",\n",
    "    }\n",
    "    for row in athletes\n",
    "]"
   ]
  },
  {
   "cell_type": "code",
   "execution_count": null,
   "id": "92dafeef-9d14-4a29-b0f0-7a5132a88aff",
   "metadata": {},
   "outputs": [],
   "source": [
    "data = {\"athletes\": athletes}\n",
    "code = 'dotplot = Plot.dot(athletes, {x: \"weight\", y: \"height\", stroke: \"sex\"}).plot()'"
   ]
  },
  {
   "cell_type": "code",
   "execution_count": null,
   "id": "b49766ab-785d-41bc-9a3d-e2e8216131ac",
   "metadata": {},
   "outputs": [],
   "source": [
    "o = Observable(code=code, data=data)\n",
    "o"
   ]
  }
 ],
 "metadata": {
  "kernelspec": {
   "display_name": "Python 3 (ipykernel)",
   "language": "python",
   "name": "python3"
  },
  "language_info": {
   "codemirror_mode": {
    "name": "ipython",
    "version": 3
   },
   "file_extension": ".py",
   "mimetype": "text/x-python",
   "name": "python",
   "nbconvert_exporter": "python",
   "pygments_lexer": "ipython3",
   "version": "3.10.6"
  }
 },
 "nbformat": 4,
 "nbformat_minor": 5
}
