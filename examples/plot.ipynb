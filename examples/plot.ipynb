{
 "cells": [
  {
   "cell_type": "code",
   "execution_count": null,
   "id": "e81e802d-59ac-418f-99e2-aa74d57bf47b",
   "metadata": {},
   "outputs": [],
   "source": [
    "import csv\n",
    "from pathlib import Path\n",
    "from ipyobservable import Observable"
   ]
  },
  {
   "cell_type": "code",
   "execution_count": null,
   "id": "37ba09e8-526f-4d78-888d-3bc6fc1a9c50",
   "metadata": {},
   "outputs": [],
   "source": [
    "with open(Path(\"data\") / \"athletes.csv\") as csvfile:\n",
    "    athletes = list(csv.DictReader(csvfile))"
   ]
  },
  {
   "cell_type": "code",
   "execution_count": null,
   "id": "6d4403cd-9280-40f2-baed-5c3ac2378536",
   "metadata": {},
   "outputs": [],
   "source": [
    "athletes_lst = [\n",
    "    '{sex: \"%s\", height: %s, weight: %s}, '\n",
    "    % (row[\"sex\"] or \"null\", row[\"height\"] or \"null\", row[\"weight\"] or \"null\")\n",
    "    for row in athletes\n",
    "]\n",
    "athletes_lst.insert(0, \"[\")\n",
    "athletes_lst.append(\"]\")\n",
    "athletes_str = \"\".join(athletes_lst)"
   ]
  },
  {
   "cell_type": "code",
   "execution_count": null,
   "id": "d6ab4864-4ae5-4db1-be35-d29025ea1012",
   "metadata": {},
   "outputs": [],
   "source": [
    "ojs_lst = [f\"athletes = {athletes_str}\"]\n",
    "ojs_lst.append('dotplot = Plot.dot(athletes, {x: \"weight\", y: \"height\", stroke: \"sex\"}).plot()')\n",
    "ojs_str = \"\\n\".join(ojs_lst)"
   ]
  },
  {
   "cell_type": "code",
   "execution_count": null,
   "id": "b49766ab-785d-41bc-9a3d-e2e8216131ac",
   "metadata": {},
   "outputs": [],
   "source": [
    "o = Observable(ojs=ojs_str)\n",
    "o"
   ]
  }
 ],
 "metadata": {
  "kernelspec": {
   "display_name": "Python 3 (ipykernel)",
   "language": "python",
   "name": "python3"
  },
  "language_info": {
   "codemirror_mode": {
    "name": "ipython",
    "version": 3
   },
   "file_extension": ".py",
   "mimetype": "text/x-python",
   "name": "python",
   "nbconvert_exporter": "python",
   "pygments_lexer": "ipython3",
   "version": "3.10.6"
  }
 },
 "nbformat": 4,
 "nbformat_minor": 5
}
