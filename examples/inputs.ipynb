{
 "cells": [
  {
   "cell_type": "code",
   "execution_count": null,
   "id": "98268577-46f1-4ac9-a9ca-be15ef2ded84",
   "metadata": {},
   "outputs": [],
   "source": [
    "from ipyobservable import Observable"
   ]
  },
  {
   "cell_type": "code",
   "execution_count": null,
   "id": "734c4afe-9d48-46fe-af6d-ae41b9b8ef76",
   "metadata": {},
   "outputs": [],
   "source": [
    "o = Observable(code=\"\"\"\n",
    "viewof gain = Inputs.range([0, 11], {value: 5, step: 0.1, label: \"Gain\"})\n",
    "md`The current gain is ${gain.toFixed(1)}!`\n",
    "\"\"\")\n",
    "o"
   ]
  }
 ],
 "metadata": {
  "kernelspec": {
   "display_name": "Python 3 (ipykernel)",
   "language": "python",
   "name": "python3"
  },
  "language_info": {
   "codemirror_mode": {
    "name": "ipython",
    "version": 3
   },
   "file_extension": ".py",
   "mimetype": "text/x-python",
   "name": "python",
   "nbconvert_exporter": "python",
   "pygments_lexer": "ipython3",
   "version": "3.10.6"
  }
 },
 "nbformat": 4,
 "nbformat_minor": 5
}
