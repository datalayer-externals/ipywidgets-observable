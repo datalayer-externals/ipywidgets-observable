{
 "cells": [
  {
   "cell_type": "code",
   "execution_count": null,
   "id": "1b8d850c-ea61-4546-9451-3896cf8b0cda",
   "metadata": {},
   "outputs": [],
   "source": [
    "import csv\n",
    "from pathlib import Path"
   ]
  },
  {
   "cell_type": "code",
   "execution_count": null,
   "id": "08f684ab-7e81-4707-9ccb-81e8f6836f48",
   "metadata": {},
   "outputs": [],
   "source": [
    "%load_ext ipyobservable"
   ]
  },
  {
   "cell_type": "code",
   "execution_count": null,
   "id": "7ad803e3-d84e-4b5b-9b74-30efb0e4bf40",
   "metadata": {},
   "outputs": [],
   "source": [
    "with open(Path(\"data\") / \"athletes.csv\") as csvfile:\n",
    "    athletes = list(csv.DictReader(csvfile))"
   ]
  },
  {
   "cell_type": "code",
   "execution_count": null,
   "id": "d7d4b464-97be-4385-84b0-20c34e1c5f23",
   "metadata": {},
   "outputs": [],
   "source": [
    "athletes = [\n",
    "    {\n",
    "        \"sex\": row[\"sex\"] or \"null\",\n",
    "        \"height\": float(row[\"height\"]) if row[\"height\"] else \"null\",\n",
    "        \"weight\": float(row[\"weight\"]) if row[\"weight\"] else \"null\",\n",
    "    }\n",
    "    for row in athletes\n",
    "]"
   ]
  },
  {
   "cell_type": "code",
   "execution_count": null,
   "id": "5bf95e3b-e9a5-41ee-877b-9cf7f602df5d",
   "metadata": {},
   "outputs": [],
   "source": [
    "%%observable athletes\n",
    "\n",
    "dotplot = Plot.dot(athletes, {x: \"weight\", y: \"height\", stroke: \"sex\"}).plot()"
   ]
  }
 ],
 "metadata": {
  "kernelspec": {
   "display_name": "Python 3 (ipykernel)",
   "language": "python",
   "name": "python3"
  },
  "language_info": {
   "codemirror_mode": {
    "name": "ipython",
    "version": 3
   },
   "file_extension": ".py",
   "mimetype": "text/x-python",
   "name": "python",
   "nbconvert_exporter": "python",
   "pygments_lexer": "ipython3",
   "version": "3.10.6"
  }
 },
 "nbformat": 4,
 "nbformat_minor": 5
}
